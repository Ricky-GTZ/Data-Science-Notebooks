{
 "cells": [
  {
   "cell_type": "markdown",
   "metadata": {},
   "source": [
    "Machine learning Como funciona?\n",
    "definir objetivo\n",
    "recolectar datos\n",
    "preparar datos\n",
    "seleccionar el algoritmo\n",
    "entrenar el modelo\n",
    "evaluar el modelo\n",
    "realizar prediccion"
   ]
  },
  {
   "cell_type": "code",
   "execution_count": null,
   "metadata": {},
   "outputs": [],
   "source": []
  }
 ],
 "metadata": {
  "language_info": {
   "name": "python"
  },
  "orig_nbformat": 4
 },
 "nbformat": 4,
 "nbformat_minor": 2
}
