{
 "cells": [
  {
   "cell_type": "markdown",
   "metadata": {},
   "source": [
    "Encontar coorrelacion de los datos y cuantificarla\n",
    "investigar el coeficiente de pearson \n",
    "\n",
    "\n",
    "Dataset ventas\n",
    "          \n",
    "200 dias                                    ventas\n",
    "                    coorerelacion\n",
    "periodico $40 TV $150 Radio $15              $250\n",
    "\n",
    "\n",
    "\n",
    "Calcular coeficiente de pearson entre ventas y variables y graficar.\n"
   ]
  },
  {
   "cell_type": "code",
   "execution_count": 87,
   "metadata": {},
   "outputs": [],
   "source": [
    "#Importar librerias pandas \n",
    "#Importar libreria numpy as np\n",
    "#Importar libreria statistics as stat\n",
    "#importar libreria matplotlib.pyplot as plt\n",
    "#importar modulo sqlite3\n",
    "\n",
    "import pandas as pd\n",
    "import numpy as np\n",
    "import statistics as stat\n",
    "import matplotlib.pyplot as plt\n"
   ]
  },
  {
   "cell_type": "code",
   "execution_count": 88,
   "metadata": {},
   "outputs": [],
   "source": [
    "#Importar dataset\n",
    "vr= pd.read_csv(\"Sales_200_days.csv\")\n"
   ]
  },
  {
   "cell_type": "code",
   "execution_count": 89,
   "metadata": {},
   "outputs": [
    {
     "data": {
      "text/plain": [
       "(200, 4)"
      ]
     },
     "execution_count": 89,
     "metadata": {},
     "output_type": "execute_result"
    }
   ],
   "source": [
    "#Visualizar estructura del dataset\n",
    "vr.shape"
   ]
  },
  {
   "cell_type": "code",
   "execution_count": 90,
   "metadata": {},
   "outputs": [
    {
     "data": {
      "text/plain": [
       "array(['TV', 'Radio', 'Newspaper', 'Sales'], dtype=object)"
      ]
     },
     "execution_count": 90,
     "metadata": {},
     "output_type": "execute_result"
    }
   ],
   "source": [
    "#Nombres de columnas de dataset\n",
    "vr.columns.values"
   ]
  },
  {
   "cell_type": "code",
   "execution_count": 91,
   "metadata": {},
   "outputs": [
    {
     "name": "stdout",
     "output_type": "stream",
     "text": [
      "147.0425\n"
     ]
    }
   ],
   "source": [
    "# Media de la columna \n",
    "MediaTV=np.mean(vr['TV'])\n",
    "print(MediaTV)\n",
    "\n",
    "vr['TV_diff'] = vr['TV'] - MediaTV\n",
    "\n",
    "vr['TV_diff_quad'] = vr['TV_diff'] ** 2"
   ]
  },
  {
   "cell_type": "code",
   "execution_count": 92,
   "metadata": {},
   "outputs": [
    {
     "name": "stdout",
     "output_type": "stream",
     "text": [
      "23.264000000000006\n"
     ]
    }
   ],
   "source": [
    "# Media de la columna\n",
    "MediaRadio=np.mean(vr['Radio'])\n",
    "print(MediaRadio)\n",
    "\n",
    "vr['Radio_diff'] = vr['Radio'] - MediaRadio\n",
    "\n",
    "\n",
    "vr['Radio_diff_quad'] = vr['Radio_diff'] ** 2"
   ]
  },
  {
   "cell_type": "code",
   "execution_count": 93,
   "metadata": {},
   "outputs": [
    {
     "name": "stdout",
     "output_type": "stream",
     "text": [
      "30.553999999999995\n"
     ]
    }
   ],
   "source": [
    "# Media de la columna\n",
    "MediaNewspaper=np.mean(vr['Newspaper'])\n",
    "print(MediaNewspaper)\n",
    "\n",
    "vr['Newspaper_diff'] = vr['Newspaper'] - MediaRadio\n",
    "\n",
    "\n",
    "vr['Newspaper_diff_quad'] = vr['Newspaper_diff'] ** 2"
   ]
  },
  {
   "cell_type": "code",
   "execution_count": 94,
   "metadata": {},
   "outputs": [
    {
     "name": "stdout",
     "output_type": "stream",
     "text": [
      "14.0225\n"
     ]
    }
   ],
   "source": [
    "# Media de la columna\n",
    "MediaSales=np.mean(vr['Sales'])\n",
    "print(MediaSales)\n",
    "\n",
    "vr['Sales_diff'] = vr['Sales'] - MediaSales\n",
    "\n",
    "vr['Sales_diff_quad'] = vr['Sales_diff'] ** 2"
   ]
  },
  {
   "cell_type": "code",
   "execution_count": 96,
   "metadata": {},
   "outputs": [
    {
     "data": {
      "text/html": [
       "<div>\n",
       "<style scoped>\n",
       "    .dataframe tbody tr th:only-of-type {\n",
       "        vertical-align: middle;\n",
       "    }\n",
       "\n",
       "    .dataframe tbody tr th {\n",
       "        vertical-align: top;\n",
       "    }\n",
       "\n",
       "    .dataframe thead th {\n",
       "        text-align: right;\n",
       "    }\n",
       "</style>\n",
       "<table border=\"1\" class=\"dataframe\">\n",
       "  <thead>\n",
       "    <tr style=\"text-align: right;\">\n",
       "      <th></th>\n",
       "      <th>TV</th>\n",
       "      <th>Radio</th>\n",
       "      <th>Newspaper</th>\n",
       "      <th>Sales</th>\n",
       "      <th>TV_diff</th>\n",
       "      <th>TV_diff_quad</th>\n",
       "      <th>Radio_diff</th>\n",
       "      <th>Radio_diff_quad</th>\n",
       "      <th>Newspaper_diff</th>\n",
       "      <th>Newspaper_diff_quad</th>\n",
       "      <th>Sales_diff</th>\n",
       "      <th>Sales_diff_quad</th>\n",
       "    </tr>\n",
       "  </thead>\n",
       "  <tbody>\n",
       "    <tr>\n",
       "      <th>0</th>\n",
       "      <td>230.1</td>\n",
       "      <td>37.8</td>\n",
       "      <td>69.2</td>\n",
       "      <td>22.1</td>\n",
       "      <td>83.0575</td>\n",
       "      <td>6898.548306</td>\n",
       "      <td>14.536</td>\n",
       "      <td>211.295296</td>\n",
       "      <td>45.936</td>\n",
       "      <td>2110.116096</td>\n",
       "      <td>8.0775</td>\n",
       "      <td>65.246006</td>\n",
       "    </tr>\n",
       "    <tr>\n",
       "      <th>1</th>\n",
       "      <td>44.5</td>\n",
       "      <td>39.3</td>\n",
       "      <td>45.1</td>\n",
       "      <td>10.4</td>\n",
       "      <td>-102.5425</td>\n",
       "      <td>10514.964306</td>\n",
       "      <td>16.036</td>\n",
       "      <td>257.153296</td>\n",
       "      <td>21.836</td>\n",
       "      <td>476.810896</td>\n",
       "      <td>-3.6225</td>\n",
       "      <td>13.122506</td>\n",
       "    </tr>\n",
       "    <tr>\n",
       "      <th>2</th>\n",
       "      <td>17.2</td>\n",
       "      <td>45.9</td>\n",
       "      <td>69.3</td>\n",
       "      <td>9.3</td>\n",
       "      <td>-129.8425</td>\n",
       "      <td>16859.074806</td>\n",
       "      <td>22.636</td>\n",
       "      <td>512.388496</td>\n",
       "      <td>46.036</td>\n",
       "      <td>2119.313296</td>\n",
       "      <td>-4.7225</td>\n",
       "      <td>22.302006</td>\n",
       "    </tr>\n",
       "    <tr>\n",
       "      <th>3</th>\n",
       "      <td>151.5</td>\n",
       "      <td>41.3</td>\n",
       "      <td>58.5</td>\n",
       "      <td>18.5</td>\n",
       "      <td>4.4575</td>\n",
       "      <td>19.869306</td>\n",
       "      <td>18.036</td>\n",
       "      <td>325.297296</td>\n",
       "      <td>35.236</td>\n",
       "      <td>1241.575696</td>\n",
       "      <td>4.4775</td>\n",
       "      <td>20.048006</td>\n",
       "    </tr>\n",
       "    <tr>\n",
       "      <th>4</th>\n",
       "      <td>180.8</td>\n",
       "      <td>10.8</td>\n",
       "      <td>58.4</td>\n",
       "      <td>12.9</td>\n",
       "      <td>33.7575</td>\n",
       "      <td>1139.568806</td>\n",
       "      <td>-12.464</td>\n",
       "      <td>155.351296</td>\n",
       "      <td>35.136</td>\n",
       "      <td>1234.538496</td>\n",
       "      <td>-1.1225</td>\n",
       "      <td>1.260006</td>\n",
       "    </tr>\n",
       "  </tbody>\n",
       "</table>\n",
       "</div>"
      ],
      "text/plain": [
       "      TV  Radio  Newspaper  Sales   TV_diff  TV_diff_quad  Radio_diff  \\\n",
       "0  230.1   37.8       69.2   22.1   83.0575   6898.548306      14.536   \n",
       "1   44.5   39.3       45.1   10.4 -102.5425  10514.964306      16.036   \n",
       "2   17.2   45.9       69.3    9.3 -129.8425  16859.074806      22.636   \n",
       "3  151.5   41.3       58.5   18.5    4.4575     19.869306      18.036   \n",
       "4  180.8   10.8       58.4   12.9   33.7575   1139.568806     -12.464   \n",
       "\n",
       "   Radio_diff_quad  Newspaper_diff  Newspaper_diff_quad  Sales_diff  \\\n",
       "0       211.295296          45.936          2110.116096      8.0775   \n",
       "1       257.153296          21.836           476.810896     -3.6225   \n",
       "2       512.388496          46.036          2119.313296     -4.7225   \n",
       "3       325.297296          35.236          1241.575696      4.4775   \n",
       "4       155.351296          35.136          1234.538496     -1.1225   \n",
       "\n",
       "   Sales_diff_quad  \n",
       "0        65.246006  \n",
       "1        13.122506  \n",
       "2        22.302006  \n",
       "3        20.048006  \n",
       "4         1.260006  "
      ]
     },
     "execution_count": 96,
     "metadata": {},
     "output_type": "execute_result"
    }
   ],
   "source": [
    "vr.head()"
   ]
  },
  {
   "cell_type": "code",
   "execution_count": 97,
   "metadata": {},
   "outputs": [
    {
     "name": "stdout",
     "output_type": "stream",
     "text": [
      "69727.64875\n",
      "8882.502\n",
      "5162.3369999999995\n"
     ]
    }
   ],
   "source": [
    "numerator_TV = (vr['TV_diff'] * vr['Sales_diff']).sum()\n",
    "print(numerator_TV)\n",
    "\n",
    "numerator_Radio = (vr['Radio_diff'] * vr['Sales_diff']).sum()\n",
    "print(numerator_Radio)\n",
    "\n",
    "numerator_Newspaper = (vr['Newspaper_diff'] * vr['Sales_diff']).sum()\n",
    "print(numerator_Newspaper)"
   ]
  },
  {
   "cell_type": "code",
   "execution_count": 98,
   "metadata": {},
   "outputs": [
    {
     "name": "stdout",
     "output_type": "stream",
     "text": [
      "0.7822244248616064\n",
      "0.5762225745710552\n",
      "0.21643767989389548\n"
     ]
    },
    {
     "data": {
      "text/html": [
       "<div>\n",
       "<style scoped>\n",
       "    .dataframe tbody tr th:only-of-type {\n",
       "        vertical-align: middle;\n",
       "    }\n",
       "\n",
       "    .dataframe tbody tr th {\n",
       "        vertical-align: top;\n",
       "    }\n",
       "\n",
       "    .dataframe thead th {\n",
       "        text-align: right;\n",
       "    }\n",
       "</style>\n",
       "<table border=\"1\" class=\"dataframe\">\n",
       "  <thead>\n",
       "    <tr style=\"text-align: right;\">\n",
       "      <th></th>\n",
       "      <th>TV</th>\n",
       "      <th>Radio</th>\n",
       "      <th>Newspaper</th>\n",
       "      <th>Sales</th>\n",
       "      <th>TV_diff</th>\n",
       "      <th>TV_diff_quad</th>\n",
       "      <th>Radio_diff</th>\n",
       "      <th>Radio_diff_quad</th>\n",
       "      <th>Newspaper_diff</th>\n",
       "      <th>Newspaper_diff_quad</th>\n",
       "      <th>Sales_diff</th>\n",
       "      <th>Sales_diff_quad</th>\n",
       "      <th>TV_correlation</th>\n",
       "      <th>Radio_correlation</th>\n",
       "      <th>Newspaper_correlation</th>\n",
       "    </tr>\n",
       "  </thead>\n",
       "  <tbody>\n",
       "    <tr>\n",
       "      <th>0</th>\n",
       "      <td>230.1</td>\n",
       "      <td>37.8</td>\n",
       "      <td>69.2</td>\n",
       "      <td>22.1</td>\n",
       "      <td>83.0575</td>\n",
       "      <td>6898.548306</td>\n",
       "      <td>14.536</td>\n",
       "      <td>211.295296</td>\n",
       "      <td>45.936</td>\n",
       "      <td>2110.116096</td>\n",
       "      <td>8.0775</td>\n",
       "      <td>65.246006</td>\n",
       "      <td>0.782224</td>\n",
       "      <td>0.576223</td>\n",
       "      <td>0.216438</td>\n",
       "    </tr>\n",
       "    <tr>\n",
       "      <th>1</th>\n",
       "      <td>44.5</td>\n",
       "      <td>39.3</td>\n",
       "      <td>45.1</td>\n",
       "      <td>10.4</td>\n",
       "      <td>-102.5425</td>\n",
       "      <td>10514.964306</td>\n",
       "      <td>16.036</td>\n",
       "      <td>257.153296</td>\n",
       "      <td>21.836</td>\n",
       "      <td>476.810896</td>\n",
       "      <td>-3.6225</td>\n",
       "      <td>13.122506</td>\n",
       "      <td>0.782224</td>\n",
       "      <td>0.576223</td>\n",
       "      <td>0.216438</td>\n",
       "    </tr>\n",
       "    <tr>\n",
       "      <th>2</th>\n",
       "      <td>17.2</td>\n",
       "      <td>45.9</td>\n",
       "      <td>69.3</td>\n",
       "      <td>9.3</td>\n",
       "      <td>-129.8425</td>\n",
       "      <td>16859.074806</td>\n",
       "      <td>22.636</td>\n",
       "      <td>512.388496</td>\n",
       "      <td>46.036</td>\n",
       "      <td>2119.313296</td>\n",
       "      <td>-4.7225</td>\n",
       "      <td>22.302006</td>\n",
       "      <td>0.782224</td>\n",
       "      <td>0.576223</td>\n",
       "      <td>0.216438</td>\n",
       "    </tr>\n",
       "    <tr>\n",
       "      <th>3</th>\n",
       "      <td>151.5</td>\n",
       "      <td>41.3</td>\n",
       "      <td>58.5</td>\n",
       "      <td>18.5</td>\n",
       "      <td>4.4575</td>\n",
       "      <td>19.869306</td>\n",
       "      <td>18.036</td>\n",
       "      <td>325.297296</td>\n",
       "      <td>35.236</td>\n",
       "      <td>1241.575696</td>\n",
       "      <td>4.4775</td>\n",
       "      <td>20.048006</td>\n",
       "      <td>0.782224</td>\n",
       "      <td>0.576223</td>\n",
       "      <td>0.216438</td>\n",
       "    </tr>\n",
       "    <tr>\n",
       "      <th>4</th>\n",
       "      <td>180.8</td>\n",
       "      <td>10.8</td>\n",
       "      <td>58.4</td>\n",
       "      <td>12.9</td>\n",
       "      <td>33.7575</td>\n",
       "      <td>1139.568806</td>\n",
       "      <td>-12.464</td>\n",
       "      <td>155.351296</td>\n",
       "      <td>35.136</td>\n",
       "      <td>1234.538496</td>\n",
       "      <td>-1.1225</td>\n",
       "      <td>1.260006</td>\n",
       "      <td>0.782224</td>\n",
       "      <td>0.576223</td>\n",
       "      <td>0.216438</td>\n",
       "    </tr>\n",
       "  </tbody>\n",
       "</table>\n",
       "</div>"
      ],
      "text/plain": [
       "      TV  Radio  Newspaper  Sales   TV_diff  TV_diff_quad  Radio_diff  \\\n",
       "0  230.1   37.8       69.2   22.1   83.0575   6898.548306      14.536   \n",
       "1   44.5   39.3       45.1   10.4 -102.5425  10514.964306      16.036   \n",
       "2   17.2   45.9       69.3    9.3 -129.8425  16859.074806      22.636   \n",
       "3  151.5   41.3       58.5   18.5    4.4575     19.869306      18.036   \n",
       "4  180.8   10.8       58.4   12.9   33.7575   1139.568806     -12.464   \n",
       "\n",
       "   Radio_diff_quad  Newspaper_diff  Newspaper_diff_quad  Sales_diff  \\\n",
       "0       211.295296          45.936          2110.116096      8.0775   \n",
       "1       257.153296          21.836           476.810896     -3.6225   \n",
       "2       512.388496          46.036          2119.313296     -4.7225   \n",
       "3       325.297296          35.236          1241.575696      4.4775   \n",
       "4       155.351296          35.136          1234.538496     -1.1225   \n",
       "\n",
       "   Sales_diff_quad  TV_correlation  Radio_correlation  Newspaper_correlation  \n",
       "0        65.246006        0.782224           0.576223               0.216438  \n",
       "1        13.122506        0.782224           0.576223               0.216438  \n",
       "2        22.302006        0.782224           0.576223               0.216438  \n",
       "3        20.048006        0.782224           0.576223               0.216438  \n",
       "4         1.260006        0.782224           0.576223               0.216438  "
      ]
     },
     "execution_count": 98,
     "metadata": {},
     "output_type": "execute_result"
    }
   ],
   "source": [
    "denumerator_TV = np.sqrt(\n",
    "    vr['TV_diff_quad'].sum() * vr['Sales_diff_quad'].sum()\n",
    ")\n",
    "\n",
    "denumerator_Radio= np.sqrt(\n",
    "    vr['Radio_diff_quad'].sum() * vr['Sales_diff_quad'].sum()\n",
    ")\n",
    "\n",
    "denumerator_Newspaper = np.sqrt(\n",
    "    vr['Newspaper_diff_quad'].sum() * vr['Sales_diff_quad'].sum()\n",
    ")\n",
    "\n",
    "r_TV = numerator_TV / denumerator_TV\n",
    "r_Radio = numerator_Radio / denumerator_Radio\n",
    "r_Newspaper = numerator_Newspaper / denumerator_Newspaper\n",
    "\n",
    "print(r_TV)\n",
    "print(r_Radio)\n",
    "print(r_Newspaper)\n",
    "\n",
    "#Coorelaciones\n",
    "\n",
    "vr['TV_correlation'] = vr['TV'] * 0 + r_TV\n",
    "vr['Radio_correlation'] = vr['TV'] * 0 + r_Radio\n",
    "vr['Newspaper_correlation'] = vr['TV'] * 0 + r_Newspaper\n",
    "\n",
    "vr.head()\n"
   ]
  },
  {
   "cell_type": "code",
   "execution_count": 99,
   "metadata": {},
   "outputs": [
    {
     "name": "stdout",
     "output_type": "stream",
     "text": [
      "0.7822244248616066\n",
      "0.5762225745710553\n",
      "0.22829902637616534\n"
     ]
    }
   ],
   "source": [
    "print(np.corrcoef(x=vr['TV'],y=vr['Sales'])[0][1])\n",
    "print(np.corrcoef(x=vr['Radio'],y=vr['Sales'])[0][1])\n",
    "print(np.corrcoef(x=vr['Newspaper'],y=vr['Sales'])[0][1])"
   ]
  },
  {
   "cell_type": "code",
   "execution_count": 100,
   "metadata": {},
   "outputs": [
    {
     "data": {
      "text/plain": [
       "Text(0, 0.5, 'Sales')"
      ]
     },
     "execution_count": 100,
     "metadata": {},
     "output_type": "execute_result"
    },
    {
     "data": {
      "image/png": "[encoded data removed]",
      "text/plain": [
       "<Figure size 432x288 with 1 Axes>"
      ]
     },
     "metadata": {
      "needs_background": "light"
     },
     "output_type": "display_data"
    }
   ],
   "source": [
    "plt.scatter(vr[\"TV\"],vr[\"Sales\"])\n",
    "plt.xlabel(\"TV\")\n",
    "plt.ylabel(\"Sales\")"
   ]
  },
  {
   "cell_type": "code",
   "execution_count": 101,
   "metadata": {},
   "outputs": [
    {
     "data": {
      "text/plain": [
       "Text(0, 0.5, 'Sales')"
      ]
     },
     "execution_count": 101,
     "metadata": {},
     "output_type": "execute_result"
    },
    {
     "data": {
      "image/png": "[encoded data removed]",
      "text/plain": [
       "<Figure size 432x288 with 1 Axes>"
      ]
     },
     "metadata": {
      "needs_background": "light"
     },
     "output_type": "display_data"
    }
   ],
   "source": [
    "plt.scatter(vr[\"Radio\"],vr[\"Sales\"])\n",
    "plt.xlabel(\"Radio\")\n",
    "plt.ylabel(\"Sales\")"
   ]
  },
  {
   "cell_type": "code",
   "execution_count": 102,
   "metadata": {},
   "outputs": [
    {
     "data": {
      "text/plain": [
       "Text(0, 0.5, 'Sales')"
      ]
     },
     "execution_count": 102,
     "metadata": {},
     "output_type": "execute_result"
    },
    {
     "data": {
      "image/png": "[encoded data removed]",
      "text/plain": [
       "<Figure size 432x288 with 1 Axes>"
      ]
     },
     "metadata": {
      "needs_background": "light"
     },
     "output_type": "display_data"
    }
   ],
   "source": [
    "plt.scatter(vr[\"Newspaper\"],vr[\"Sales\"])\n",
    "plt.xlabel(\"Newspaper\")\n",
    "plt.ylabel(\"Sales\")"
   ]
  },
  {
   "cell_type": "markdown",
   "metadata": {},
   "source": []
  }
 ],
 "metadata": {
  "interpreter": {
   "hash": "2f2eda3c6214c8dcdcbbeca72501a62e5b39a43da3eed2c6886eb20cec0eb881"
  },
  "kernelspec": {
   "display_name": "Python 3.9.11 64-bit (windows store)",
   "language": "python",
   "name": "python3"
  },
  "language_info": {
   "codemirror_mode": {
    "name": "ipython",
    "version": 3
   },
   "file_extension": ".py",
   "mimetype": "text/x-python",
   "name": "python",
   "nbconvert_exporter": "python",
   "pygments_lexer": "ipython3",
   "version": "3.9.12"
  },
  "orig_nbformat": 4
 },
 "nbformat": 4,
 "nbformat_minor": 2
}
