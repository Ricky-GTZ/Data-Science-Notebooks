{
 "cells": [
  {
   "cell_type": "code",
   "execution_count": null,
   "metadata": {},
   "outputs": [],
   "source": [
    "Boston Dataset\n",
    "\n",
    "import numpy as no\n",
    "import matplotlib-pyplot as plt\n",
    "from sklearn Import datasets\n",
    "InC)\n",
    "print (boston)\n"
   ]
  },
  {
   "cell_type": "code",
   "execution_count": null,
   "metadata": {},
   "outputs": [],
   "source": [
    "1 print (*Información del dataser\")\n",
    "prinl(boston.krys())\n"
   ]
  },
  {
   "cell_type": "code",
   "execution_count": null,
   "metadata": {},
   "outputs": [],
   "source": [
    "1 print (\"carl\n",
    "(visticas del dataset*)\n",
    "2\n",
    "print(boston:BescK)\n",
    "1\n",
    "print (\"Cantidad de datos del\n",
    "7\n",
    "print(boston.data.shape)\n",
    "dataset\")\n",
    "1\n",
    "print (\"tiombre de las columnas del dataset\")\n",
    "2\n",
    "print(boston.feature_nanes)"
   ]
  }
 ],
 "metadata": {
  "language_info": {
   "name": "python"
  },
  "orig_nbformat": 4
 },
 "nbformat": 4,
 "nbformat_minor": 2
}
