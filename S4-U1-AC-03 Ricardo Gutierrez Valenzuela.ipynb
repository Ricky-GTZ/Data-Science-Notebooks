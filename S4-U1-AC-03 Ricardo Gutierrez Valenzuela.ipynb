{
 "cells": [
  {
   "cell_type": "code",
   "execution_count": null,
   "metadata": {},
   "outputs": [],
   "source": [
    "#Importar librerias pandas y numpy\n",
    "#Importar libreria numpy as np\n",
    "\n",
    "import pandas as pd\n",
    "\n",
    "import numpy as np\n"
   ]
  },
  {
   "cell_type": "code",
   "execution_count": null,
   "metadata": {},
   "outputs": [],
   "source": [
    "#Enganchar el dataset desde un sitio web\n",
    "\n",
    "url=\"https://raw.githubusercontent.com/datasciencedojo/datasets/master/titanic.csv\"\n",
    "\n",
    "#DataFrame para recuperar datos\n",
    "data= pd.read_csv(url)"
   ]
  },
  {
   "cell_type": "code",
   "execution_count": null,
   "metadata": {},
   "outputs": [],
   "source": [
    "data= pd.read_csv(\"titanic.csv\")"
   ]
  },
  {
   "cell_type": "code",
   "execution_count": null,
   "metadata": {},
   "outputs": [],
   "source": [
    "# Desplegamos los primeros registros\n",
    "data.head(5)\n"
   ]
  },
  {
   "cell_type": "code",
   "execution_count": null,
   "metadata": {},
   "outputs": [],
   "source": [
    "#Desplegar ultimos registros\n",
    "\n",
    "data.tail(5)\n"
   ]
  },
  {
   "cell_type": "code",
   "execution_count": null,
   "metadata": {},
   "outputs": [],
   "source": [
    "#Panorama de la estructura dataset\n",
    "#Filas y columnas\n",
    "data.shape"
   ]
  },
  {
   "cell_type": "code",
   "execution_count": null,
   "metadata": {},
   "outputs": [],
   "source": [
    "#Desplegar los valores de las columnas\n",
    "\n",
    "data.columns.values\n"
   ]
  },
  {
   "cell_type": "code",
   "execution_count": null,
   "metadata": {},
   "outputs": [],
   "source": [
    "#Panorama estadistico del dataset\n",
    "# Estado del dataset numero de datos, media de datos, desviacion estandar, min, cuartiles, max\n",
    "data.describe()\n"
   ]
  },
  {
   "cell_type": "code",
   "execution_count": null,
   "metadata": {},
   "outputs": [],
   "source": [
    "#Panorama estadistico del dataset\n",
    "# Estado del dataset numero de datos, media de datos, desviacion estandar, min, cuartiles, max\n",
    "data.describe()\n"
   ]
  },
  {
   "cell_type": "code",
   "execution_count": null,
   "metadata": {},
   "outputs": [],
   "source": [
    "header(None)"
   ]
  },
  {
   "cell_type": "code",
   "execution_count": null,
   "metadata": {},
   "outputs": [],
   "source": [
    "#valores nulos\n",
    "\n",
    "pd.isnull(data[\"Age\"])"
   ]
  },
  {
   "cell_type": "code",
   "execution_count": null,
   "metadata": {},
   "outputs": [],
   "source": [
    "# Valores no nulos\n",
    "\n",
    "pd.notnull(data[\"Age\"])"
   ]
  },
  {
   "cell_type": "code",
   "execution_count": null,
   "metadata": {},
   "outputs": [],
   "source": [
    "#Contar los registros nulos \n",
    "\n",
    "pd.isnull(data[\"Age\"]).values.ravel().sum()\n",
    "\n"
   ]
  },
  {
   "cell_type": "code",
   "execution_count": null,
   "metadata": {},
   "outputs": [],
   "source": [
    "#Contar los registros no nulos \n",
    "\n",
    "pd.notnull(data[\"Age\"]).values.ravel().sum()"
   ]
  },
  {
   "cell_type": "code",
   "execution_count": null,
   "metadata": {},
   "outputs": [],
   "source": [
    "#Borrar datos faltantes causados por:\n",
    "# * Incopatibilidad del manejador de base de datos con el metodo de acceso o \n",
    "# * En un muestreo estadistico no hubo respuestas \n",
    "\n",
    "#Copia del dataset original\n",
    "\n",
    "data2= data\n",
    "\n",
    "#Borrar una fila completa con valores Nan\n",
    "\n",
    "data2.dropna()\n",
    "\n",
    "#Dropna por default axis=0 how= any  borrara todas las columnas que tengan algun Nan\n",
    "# Al hacer modificaciones al data tenemos que asignar el dataset\n",
    "# modificado al mismo dataset para que se conserven los cambios\n",
    "\n",
    "data2=data2.dropna(axis=1, how=\"all\")"
   ]
  },
  {
   "cell_type": "code",
   "execution_count": null,
   "metadata": {},
   "outputs": [],
   "source": [
    "#Copia del dataset original\n",
    "\n",
    "\n",
    "data3=data\n",
    "#Borrar una fila completa con valores Nan\n",
    "\n",
    "data3.dropna()\n",
    "\n",
    "#Dropna por default axis=0 how= any  borrara todas las columnas que tengan algun Nan\n",
    "# Al hacer modificaciones al data tenemos que asignar el dataset\n",
    "# modificado al mismo dataset para que se conserven los cambios\n",
    "\n",
    "data3=data3.dropna(axis=1, how=\"any\")"
   ]
  },
  {
   "cell_type": "code",
   "execution_count": null,
   "metadata": {},
   "outputs": [],
   "source": [
    "#Rellenar valores Nan con 0\n",
    "#Funcion fillna\n",
    "\n",
    "data4= data\n",
    "data4= data4.fillna(0)\n",
    "\n",
    "data4.describe()\n"
   ]
  },
  {
   "cell_type": "code",
   "execution_count": null,
   "metadata": {},
   "outputs": [],
   "source": [
    "#Rellenar valores Nan con 0\n",
    "#Funcion fillna\n",
    "\n",
    "data5= data\n",
    "data5= data5.fillna(0)\n",
    "\n",
    "data5.describe(\"Unknown\")\n"
   ]
  },
  {
   "cell_type": "code",
   "execution_count": null,
   "metadata": {},
   "outputs": [],
   "source": [
    "#Rellenar valores Nan con el promedio\n",
    "\n",
    "data6=data\n",
    "\n",
    "#Igualamos el promedio a la columna mean del describe\n",
    "mean=data6.describe()[\"Age\"][\"mean\"]\n",
    "\n",
    "#remplazamos por\n",
    "data4= data4.fillna(mean)\n",
    "\n",
    "\n",
    "data6.describe()"
   ]
  },
  {
   "cell_type": "code",
   "execution_count": null,
   "metadata": {},
   "outputs": [],
   "source": [
    "#Dividir la columna sexo en 2 : male/ female\n",
    "data5=data\n",
    "data5.head(20)\n",
    "data5 = pd.get_dummies(data5[\"Sex\"])\n",
    "\n",
    "\n",
    "\n"
   ]
  },
  {
   "cell_type": "code",
   "execution_count": null,
   "metadata": {},
   "outputs": [],
   "source": [
    "#Borrar columna original\n",
    "data5=data5.drop(columns=[\"Sex\"])\n",
    "data5.head()"
   ]
  },
  {
   "cell_type": "code",
   "execution_count": null,
   "metadata": {},
   "outputs": [],
   "source": [
    "#Agregar Columnas ficticias\n",
    "data5=pd.concat([data,data5],axis=1)\n",
    "data5.head(5)"
   ]
  },
  {
   "cell_type": "code",
   "execution_count": null,
   "metadata": {},
   "outputs": [],
   "source": [
    "#Libreria para graficar\n",
    "import matplotlib.pyplot as plt\n",
    "\n",
    "#from matplotlib import colors\n",
    "#from matplotlib.ticker import PercentFormatter"
   ]
  },
  {
   "cell_type": "code",
   "execution_count": null,
   "metadata": {},
   "outputs": [],
   "source": [
    "#Histograma de edades\n",
    "\n",
    "plt.hist(data[\"Age\"], bins = 10) "
   ]
  },
  {
   "cell_type": "code",
   "execution_count": null,
   "metadata": {},
   "outputs": [],
   "source": [
    "#Informacion del histograma.\n",
    "plt.xlabel \n",
    "plt.ylabel \n",
    "plt.title "
   ]
  },
  {
   "cell_type": "markdown",
   "metadata": {},
   "source": [
    "Personal reflection about this activity\n",
    "•\tIn this activity I learned how to upload csv works\n",
    "•\tI learned about types of dataframes\n",
    "•\tI learned how to modify headers of tables \n",
    "•\tI learned how show elements from a table\n",
    "•\tI learned how to replace words from a table\n",
    "In this activity, I have worked with jupyter notebooks using the pandas library, the job is to clean a dataset called titanic.\n",
    "The data cleaning consists of showing the data types in different formats and in different ways, that is to say, we can observe only the first data that we indicate or the last data. For example, a very useful dataset usually includes a very high number of data up to thousands of columns, with functions like head and tail we can observe only a number of these data. \n",
    "Another very useful function when working with columns is the dummies function with which it is possible to divide a column into two or more different ones according to their value, i.e. when there is a row that can show a positive result and a negative one, it is possible to separate it into a row with the positive results and another row with the negative results. Additionally with the Pandas DataFrame structure you can specify the index and column names. The index indicates the difference in the rows, while the column names indicate the difference in the columns. These components are very useful when data manipulation is required.\n",
    "The activities in this assignment helped me to observe and learn a little bit about what data scientists do since their first assignment in a job is about cleaning data warehouses that they might obtain or receive.\n",
    "\n"
   ]
  }
 ],
 "metadata": {
  "interpreter": {
   "hash": "ed8f65821bfe09b4439d8422b12c7518a3c0b0ee742f80f1ad21c945a6e8db1b"
  },
  "kernelspec": {
   "display_name": "Python 3.7.4 64-bit",
   "language": "python",
   "name": "python3"
  },
  "language_info": {
   "name": "python",
   "version": "3.9.1"
  },
  "orig_nbformat": 4
 },
 "nbformat": 4,
 "nbformat_minor": 2
}
