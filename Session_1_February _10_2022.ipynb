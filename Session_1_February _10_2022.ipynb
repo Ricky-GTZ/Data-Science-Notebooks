{
 "cells": [
  {
   "cell_type": "markdown",
   "id": "temporal-correspondence",
   "metadata": {},
   "source": [
    "# Clase del 10 de febrero de 2022"
   ]
  },
  {
   "cell_type": "code",
   "execution_count": null,
   "id": "coordinated-portrait",
   "metadata": {},
   "outputs": [],
   "source": [
    "# Hola mundo\n",
    "\n",
    "\"\"\"\n",
    "Función para sumar números\n",
    "\"\"\"\n",
    "def suma(n1, n2):\n",
    "    return n1+n2\n",
    "\n",
    "\"\"\"\n",
    "Función para restar números\n",
    "\"\"\"\n",
    "def resta(n1, n2):\n",
    "    return n1-n2\n",
    "\n",
    "\"\"\"\n",
    "Función para multiplicar números\n",
    "\"\"\"\n",
    "def multiplica(n1, n2):\n",
    "    return n1*n2\n",
    "\n",
    "\"\"\"\n",
    "Función para multiplicar números\n",
    "\"\"\"\n",
    "def dividir(n1, n2):\n",
    "    return n1/n2\n",
    "\n",
    "\n",
    "\n",
    "\"\"\"\n",
    "Función main\n",
    "\"\"\"\n",
    "def main():\n",
    "    \n",
    "    bandera = True\n",
    "    while (bandera != False):\n",
    "        print(\"== Operaciones Básicas con Python ==\")\n",
    "        n1 = int(input(\"Ingresa primer número entero\"))\n",
    "        n2 = int(input(\"Ingresa segundo número entero\"))\n",
    "    \n",
    "        print(\"La suma es :\", suma(n1, n2))\n",
    "        print(\"La resta es :\", resta(n1, n2))\n",
    "        print(\"La multiplicación es :\", resta(n1, n2))\n",
    "        print(\"La división es :\", dividir(n1, n2))\n",
    "        \n",
    "        cad = input(\"¿Desea otra operación (S/N)?\")\n",
    "        if (cad == \"S\" or cad == \"s\"):\n",
    "            # no hacemos nada\n",
    "            pass\n",
    "        else:\n",
    "            bandera = False\n",
    "    else:\n",
    "        print(\"** Fin de programa\")\n",
    "        \n",
    "        \n",
    "\n",
    "if __name__ == \"__main__\":\n",
    "    main()\n",
    "ñ"
   ]
  },
  {
   "cell_type": "code",
   "execution_count": null,
   "id": "violent-nigeria",
   "metadata": {},
   "outputs": [],
   "source": [
    "#Ejercicio de Listas  Clase 18/02/2022\n",
    "\n",
    "lista=[]\n",
    "\n",
    "def agregar(obj):\n",
    "  print(\"agregando\" ,obj)\n",
    "  lista.append(obj)\n",
    "\n",
    "def buscar(obj):\n",
    "  print(\"buscando\",obj)\n",
    "  return lista.index(obj)\n",
    "\n",
    "def cambiar(index,obj):\n",
    "  print(\"cambiando\",lista[index],\"por\",obj)\n",
    "  lista[index]=obj\n",
    "\n",
    "def eliminar(obj):\n",
    "  print(\"eliminando\", obj , \"de la lista\")\n",
    "  lista.remove(obj)\n",
    "\n",
    "def listaElementos():\n",
    "  print(\"Imprimiendo objetos\")\n",
    "  for objeto in lista :\n",
    "    print(\"\\t\",objeto)\n",
    "\n",
    "def main():\n",
    "  print('Primer elemento')\n",
    "  agregar(1)\n",
    "  agregar(2)\n",
    "  agregar(3)\n",
    "  buscar(2)\n",
    "  cambiar(1,3)\n",
    "  listaElementos()\n",
    "  indice=buscar(1)\n",
    "  print(\"1 tiene el indice de: \", indice)\n",
    "  cambiar( indice,2)\n",
    "  listaElementos()\n",
    "  eliminar(2)\n",
    "\n",
    "\n",
    "if __name__ == \"__main__\":\n",
    "  lista=[]\n",
    "  main()\n",
    "\n",
    " "
   ]
  },
  {
   "cell_type": "code",
   "execution_count": null,
   "id": "a897dec2",
   "metadata": {},
   "outputs": [],
   "source": [
    "#Ejercicio listas con Temperatura, Humedad del terreno, Humedad del medio ambiente, Velocidad del viento, Luminosidad\n",
    "# Hacer una lista de 500 y descargar un ccv\n",
    "\n",
    "\n",
    "\n",
    "import random\n",
    "import csv\n",
    "\n",
    "def getTemperatura():\n",
    "    return random.randrange(100, 500)/10\n",
    "def getHumedadTerreno():\n",
    "    return random.randrange(0, 1000)/10\n",
    "def getHumedadMedio():\n",
    "   return random.randrange(0, 1000)/10\n",
    "def getVelocidadViento():\n",
    "    return random.randrange(0, 1000)/10\n",
    "def getLuminosidad():\n",
    "    return random.randrange(0, 1000)/10\n",
    "    \n",
    "\n",
    "\n",
    "if __name__ == \"__main__\":\n",
    "    Mediciones=[] ##Se almacenan las mediciones\n",
    "    Variables=[\"Temperatura\",\"Humedad del Terreno\",\"Humedad del Medio\", \"Velocidad del viento\", \"Luminosidad\"]  ##Se le asignan titulos a los valores de la tabla\n",
    "    FILAS= 500 ## Se requieren 500 filas\n",
    "    minimos = [1000,1000,1000,1000,1000] ## Bandera en valor alto\n",
    "    maximos = [0,0,0,0,0] ##Bandera en valor minimo\n",
    "    sumas = [0,0,0,0,0] ##Banderas en valor minimo\n",
    "\n",
    "    for fila in range(FILAS):  ## Ciclo a ejecutarse el valor de Filas veces\n",
    "        Temp=getTemperatura() #Valor aleatorio \n",
    "        HT=getHumedadTerreno() #Valor aleatorio \n",
    "        HM=getHumedadMedio()  #Valor aleatorio \n",
    "        Vel=getVelocidadViento() #Valor aleatorio\n",
    "        Lum=getLuminosidad() #Valor aleatorio \n",
    "\n",
    "        Mediciones.append([Temp,HT,HM,Vel,Lum])  # se adjuntas las variables desde mediciones\n",
    "\n",
    "        sumas[0] += Temp # suma correspondiente al valor de todas las temp\n",
    "        sumas[1] += HT # suma correspondiente al valor de todas las HT\n",
    "        sumas[2] += HM # suma correspondiente al valor de todas las HM\n",
    "        sumas[3] += Vel # suma correspondiente al valor de todas las Vel\n",
    "        sumas[4] += Lum # suma correspondiente al valor de todas las Lum\n",
    "        ## Operaciones para sustituir un valor si es menor al anterior\n",
    "        if(minimos[0] > Temp):\n",
    "            minimos[0] = Temp\n",
    "        if(minimos[1] > HT):\n",
    "            minimos[1] = HT\n",
    "        if(minimos[2] > HM):\n",
    "            minimos[2] = HM\n",
    "        if(minimos[3] > Vel):\n",
    "            minimos[3] = Vel\n",
    "        if(minimos[4] > Lum):\n",
    "            minimos[4] = Lum\n",
    "\n",
    "        if(maximos[0] < Temp):\n",
    "            maximos[0] = Temp\n",
    "        if(maximos[1] < HT):\n",
    "            maximos[1] = HT\n",
    "        if(maximos[2] < HM):\n",
    "            maximos[2] = HM\n",
    "        if(maximos[3] < Vel):\n",
    "            maximos[3] = Vel\n",
    "        if(maximos[4] < Lum):\n",
    "            maximos[4] = Lum\n",
    "\n",
    "\n",
    "    medias = [sumas[0]/FILAS,sumas[1]/FILAS,sumas[2]/FILAS,sumas[3]/FILAS,sumas[4]/FILAS]\n",
    "\n",
    "    print(\"minimos: \",minimos)\n",
    "    print(\"maximos: \",maximos)\n",
    "    print(\"medias: \",medias)\n",
    "\n",
    "    with open('mediciones.csv', 'w') as f:\n",
    "        # using csv.writer method from CSV package\n",
    "        write = csv.writer(f)\n",
    "        write.writerow(Variables)\n",
    "        write.writerows(Mediciones)\n",
    "\n",
    "\n"
   ]
  },
  {
   "cell_type": "code",
   "execution_count": null,
   "id": "305f97f2",
   "metadata": {},
   "outputs": [],
   "source": [
    "#Objetos en python\n",
    "\n",
    "#Crear clase llamada punto\n",
    "class Punto(object):\n",
    "    #Metodo constructor, inicializador\n",
    "    def __init__(self, valorX, valorY):\n",
    "        #Crear los atributos del objeto\n",
    "        self.x= valorX\n",
    "        self.y= valorY\n",
    "\n",
    "    #Metodo get para el campo o atributo x\n",
    "    def getX(self):\n",
    "        return self.x\n",
    "\n",
    "        #Metodo get para el campo o atributo y\n",
    "    def getY(self):\n",
    "        return self.y\n",
    "    \n",
    "    #Metodo set para el atributo x\n",
    "    def setX(self, valorX):\n",
    "        self.x= valorX\n",
    "\n",
    "    #Metodo set para el atributo y\n",
    "    def setY(self, valorY):\n",
    "        self.y= valorY\n",
    "\n",
    "# Creamos un objeto de la clase Punto llamado pa\n",
    "pa= Punto(2,3)\n",
    "#Imprimimos campos del objeto\n",
    "print(pa.getX())\n",
    "print(pa.getY())\n",
    "pa.setX(-10)\n",
    "pa.setY(-10)\n",
    "print(pa.getX())\n",
    "print(pa.getY())"
   ]
  },
  {
   "cell_type": "code",
   "execution_count": null,
   "id": "5afd0ca4",
   "metadata": {},
   "outputs": [],
   "source": [
    "#Ejemplo de herencia\n",
    "class Circunferencia(Punto):\n",
    "    #Metodo constructor, inicializador\n",
    "    def __init__(self, valorX, valorY, valorRadio):\n",
    "        #Creamos atributo radio\n",
    "        self.radio=valorRadio\n",
    "        #Crear los atributos del objeto\n",
    "        Punto.x= valorX\n",
    "        Punto.y= valorY\n",
    "    #Metodo get para atributo radio\n",
    "    def getRadio(self):\n",
    "        return self.radio\n",
    "    #Metodo set para el atributo radio\n",
    "    def setRadio(self, vRadio):\n",
    "        self.radio = vRadio\n",
    "\n",
    "#Instanciamos la clase circunferencia para comprobar que podemos usar los metodos y elementos de Punto\n",
    "c1 = Circunferencia(2,3,2.33)\n",
    "print(c1.getX())\n",
    "print(c1.getY())\n",
    "print (c1.getRadio())"
   ]
  },
  {
   "cell_type": "code",
   "execution_count": null,
   "id": "75caa4c7",
   "metadata": {},
   "outputs": [],
   "source": [
    "##Clase 25/02/2022   Importar dataset con pandas\n",
    "\n",
    "##Objetivo: Comprender y aplicar los mecanismos basicos de adquisicion de datos.\n",
    "\n",
    "\n",
    "#Importar la libreria Pandas\n",
    "import pandas as pd\n",
    "#Importar libreria numpy as np\n",
    "import numpy as np \n",
    "\n",
    "\n"
   ]
  },
  {
   "cell_type": "markdown",
   "id": "4fb51285",
   "metadata": {},
   "source": [
    "\n",
    "<P>\n",
    "    <h4>Carga de dataset con Pandas </h4>\n",
    "    Utilizamos la funcion de pandas read_csv() para leer un archivo. Declarar una variable tipo dataframe. \n",
    "    Dentro del dataframe realizaremos las operaciones de limpieza de datos\n",
    "<P>"
   ]
  },
  {
   "cell_type": "code",
   "execution_count": null,
   "id": "1f9db626",
   "metadata": {},
   "outputs": [],
   "source": []
  },
  {
   "cell_type": "code",
   "execution_count": null,
   "id": "7abfe741",
   "metadata": {},
   "outputs": [],
   "source": [
    "#Cargar dataset y convertirlo a un dataFrame\n",
    "df= pd.read_csv(\"imports-85.csv\")\n",
    "#Iniciar a aplicar funciones de Pandas\n",
    "\n",
    "#Para listar el numero de registros del dataFrame head()\n",
    "#df.head()\n",
    "df.head()\n",
    "#desplegar primeras 20\n",
    "df.head(20)"
   ]
  },
  {
   "cell_type": "code",
   "execution_count": null,
   "id": "d3e2b94c",
   "metadata": {},
   "outputs": [],
   "source": [
    "#Listar los ultimos registros de\n",
    "df.tail(10)"
   ]
  },
  {
   "cell_type": "code",
   "execution_count": null,
   "id": "0997e853",
   "metadata": {},
   "outputs": [],
   "source": [
    "df.columns"
   ]
  },
  {
   "cell_type": "code",
   "execution_count": null,
   "id": "aec45847",
   "metadata": {},
   "outputs": [],
   "source": [
    "#Reemplazar el ? por las palabras Nan (Not as number)\n",
    "df= df.replace(\"?\", np.nan)\n",
    "df.head(20)"
   ]
  },
  {
   "cell_type": "code",
   "execution_count": null,
   "id": "90f7efbf",
   "metadata": {},
   "outputs": [],
   "source": [
    "#Modificar los cabezales o titulos de columnas\n",
    "#Creamos una lista con los titulos de cada columna\n",
    "encabezado = [\"symboling\",\"normalized-losses\",\"make\",\"fuel-type\",\"aspiration\",\"num-of-doors\",\"body-style\",\"drive-wheels\",\n",
    "\"engine-location\",\"wheel-base\",\"length\",\"width\",\"height\",\"curb-weight\",\"engine-type\",\"num-of-cylinders\",\n",
    "\"engine-size\",\"fuel-system\",\"bore\",\"stroke\",\"compression-ratio\",\"horsepower\",\"peak-rpm\",\"city-mpg\",\"highway-mpg\",\"price\"]\n",
    "#Reemplazamos las columnas\n",
    "df.columns = encabezado\n",
    "df.head(20)\n"
   ]
  },
  {
   "cell_type": "code",
   "execution_count": null,
   "id": "c2cf6fc3",
   "metadata": {},
   "outputs": [],
   "source": [
    "##df.replace(\"mpg\", \"KmL\")\n",
    "\n",
    "#Agregar columna kmL\n",
    "\n",
    "conversion=0.425144\n",
    "\n",
    "df['city-Kml']=df['city-mpg'] * conversion\n",
    "df['highway-Kml']=df['highway-mpg'] * conversion\n",
    "\n",
    "df.head(20)\n",
    "\n",
    "\n"
   ]
  },
  {
   "cell_type": "code",
   "execution_count": null,
   "id": "1a95a09f",
   "metadata": {},
   "outputs": [],
   "source": [
    "#Borrar mpg\n",
    "\n",
    "df.drop('city-mpg', axis=\"columns\",inplace=True)\n",
    "df.drop('highway-mpg', axis=\"columns\",inplace=True)\n",
    "\n",
    "df.head(20)"
   ]
  },
  {
   "cell_type": "markdown",
   "id": "59ecba11",
   "metadata": {},
   "source": [
    "•\tIn this activity I learned how to upload csv works\n",
    "•\tI learned about types of dataframes\n",
    "•\tI learned how to modify headers of tables \n",
    "•\tI learned how show elements from a table\n",
    "•\tI learned how to replace words from a table\n"
   ]
  },
  {
   "cell_type": "code",
   "execution_count": null,
   "id": "e6ca5bee",
   "metadata": {},
   "outputs": [],
   "source": [
    "cont=0\n",
    "\n",
    "print(df.isna().sum())"
   ]
  },
  {
   "cell_type": "code",
   "execution_count": null,
   "id": "d959711e",
   "metadata": {},
   "outputs": [],
   "source": [
    "#Mostrar todos los valores de una columna\n",
    "df['price'].values\n",
    "\n"
   ]
  },
  {
   "cell_type": "code",
   "execution_count": null,
   "id": "5bbd0989",
   "metadata": {},
   "outputs": [],
   "source": [
    "\n",
    " ##Obtener el promedio de las entradas no NAN en columna price\n",
    "\n",
    "valores = []\n",
    "\n",
    "suma = 0\n",
    "\n",
    "for valor in df['price'].values:\n",
    "\n",
    "    if(type(valor) == type(\"string\")):\n",
    "\n",
    "        suma += float(valor)\n",
    "\n",
    "        valores.append(valor)\n",
    "\n",
    "\n",
    "prom = suma / len(valores)\n",
    "\n",
    "print(prom)"
   ]
  },
  {
   "cell_type": "code",
   "execution_count": null,
   "id": "072cdfa1",
   "metadata": {},
   "outputs": [],
   "source": [
    "# Remplazar los valores NAN en la columna prince por el promedio\n",
    "index = 0\n",
    "\n",
    "for valor in df['price'].values:\n",
    "\n",
    "    if(type(valor) != type(\"string\")):\n",
    "\n",
    "        df.loc[index,\"price\"]=prom\n",
    "\n",
    "    index += 1\n",
    "\n",
    "\n",
    "df['price'].values"
   ]
  },
  {
   "cell_type": "markdown",
   "id": "d6f3122d",
   "metadata": {},
   "source": [
    "In this activity we used the panda library to perform actions within a data table, the operations used had the purpose of changing elements of that name by another defined name, modifying the name of elements such as headers, changing the value of the data to be modified with a specific factor and other operations. \n",
    "Pandas is a Software library written as an extension of Numpy for data manipulation and analysis for the Python programming language. It provides data structures and operations for manipulating numerical tables and time series.\n",
    "I learned to observe the management of a data warehouse and the operations that are commonly used to perform its cleansing and cleaning.\n",
    "The Pandas DataFrame consists of three main components: the data, the index and the columns.\n",
    "\n",
    "Additionally with the Pandas DataFrame structure you can specify the index and column names. The index indicates the difference in the rows, while the column names indicate the difference in the columns. These components are very useful when data manipulation is required.\n",
    "The activities in this assignment helped me to observe and learn a little bit about what data scientists do since their first assignment in a job is about cleaning data warehouses that they might obtain or receive.\n"
   ]
  },
  {
   "cell_type": "markdown",
   "id": "417a3f02",
   "metadata": {},
   "source": [
    "Clase 04/03/2022\n"
   ]
  },
  {
   "cell_type": "code",
   "execution_count": null,
   "id": "a794fae2",
   "metadata": {},
   "outputs": [],
   "source": [
    "#Importar librerias pandas y numpy\n",
    "\n",
    "import pandas as pd\n",
    "#Importar libreria numpy as np\n",
    "import numpy as np \n",
    "import matplotlib.pyplot as plt\n",
    "import numpy as np\n",
    "from matplotlib import colors\n",
    "from matplotlib.ticker import PercentFormatter"
   ]
  },
  {
   "cell_type": "code",
   "execution_count": null,
   "id": "5f8312f0",
   "metadata": {},
   "outputs": [],
   "source": [
    "#Enganchar el dataset desde un sitio web\n",
    "\n",
    "url=\"https://raw.githubusercontent.com/datasciencedojo/datasets/master/titanic.csv\"\n",
    "\n",
    "#DataFrame para recuperar datos\n",
    "data= pd.read_csv(url)"
   ]
  },
  {
   "cell_type": "code",
   "execution_count": null,
   "id": "ad17f90e",
   "metadata": {},
   "outputs": [],
   "source": [
    "# Desplegamos los primeros registros\n",
    "data.head(5)\n"
   ]
  },
  {
   "cell_type": "code",
   "execution_count": null,
   "id": "ddfda1b5",
   "metadata": {},
   "outputs": [],
   "source": [
    "#Desplegar ultimos registros\n",
    "\n",
    "data.tail(5)\n"
   ]
  },
  {
   "cell_type": "code",
   "execution_count": null,
   "id": "a874c670",
   "metadata": {},
   "outputs": [],
   "source": [
    "#Panorama de la estructura dataset\n",
    "#Filas y columnas\n",
    "data.shape"
   ]
  },
  {
   "cell_type": "code",
   "execution_count": null,
   "id": "a6f2404e",
   "metadata": {},
   "outputs": [],
   "source": [
    "#Desplegar los valores de las columnas\n",
    "\n",
    "data.columns.values\n"
   ]
  },
  {
   "cell_type": "code",
   "execution_count": null,
   "id": "571db511",
   "metadata": {},
   "outputs": [],
   "source": [
    "#Panorama estadistico del dataset\n",
    "# Estado del dataset numero de datos, media de datos, desviacion estandar, min, cuartiles, max\n",
    "data.describe()\n"
   ]
  },
  {
   "cell_type": "code",
   "execution_count": null,
   "id": "9e2fc43b",
   "metadata": {},
   "outputs": [],
   "source": [
    "#Leer tipos de datos del dataset\n",
    "\n",
    "data.dtypes"
   ]
  },
  {
   "cell_type": "code",
   "execution_count": null,
   "id": "fbe65bbb",
   "metadata": {},
   "outputs": [],
   "source": [
    "#valores nulos\n",
    "\n",
    "pd.isnull(data[\"Age\"])"
   ]
  },
  {
   "cell_type": "code",
   "execution_count": null,
   "id": "f0b2ac88",
   "metadata": {},
   "outputs": [],
   "source": [
    "# Valores no nulos\n",
    "\n",
    "pd.notnull(data[\"Age\"])"
   ]
  },
  {
   "cell_type": "code",
   "execution_count": null,
   "id": "ef025a5e",
   "metadata": {},
   "outputs": [],
   "source": [
    "#Contar los registros nulos \n",
    "\n",
    "pd.isnull(data[\"Age\"]).values.ravel().sum()\n",
    "\n"
   ]
  },
  {
   "cell_type": "code",
   "execution_count": null,
   "id": "54d5d822",
   "metadata": {},
   "outputs": [],
   "source": [
    "#Contar los registros no nulos \n",
    "\n",
    "pd.notnull(data[\"Age\"]).values.ravel().sum()"
   ]
  },
  {
   "cell_type": "code",
   "execution_count": null,
   "id": "2cd85703",
   "metadata": {},
   "outputs": [],
   "source": [
    "#Borrar datos faltantes causados por:\n",
    "# * Incopatibilidad del manejador de base de datos con el metodo de acceso o \n",
    "# * En un muestreo estadistico no hubo respuestas \n",
    "\n",
    "#Copia del dataset original\n",
    "\n",
    "data2= data\n",
    "\n",
    "#Borrar una fila completa con valores Nan\n",
    "\n",
    "data2.dropna()\n",
    "\n",
    "#Dropna por default axis=0 how= any  borrara todas las columnas que tengan algun Nan\n",
    "# Al hacer modificaciones al data tenemos que asignar el dataset\n",
    "# modificado al mismo dataset para que se conserven los cambios\n",
    "\n",
    "data2=data2.dropna(axis=1, how=\"all\")"
   ]
  },
  {
   "cell_type": "code",
   "execution_count": null,
   "id": "dba4153d",
   "metadata": {},
   "outputs": [],
   "source": [
    "#Rellenar valores Nan con 0\n",
    "#Funcion fillna\n",
    "\n",
    "data3= data\n",
    "data3= data3.fillna(0)\n",
    "\n",
    "data3.describe()\n"
   ]
  },
  {
   "cell_type": "code",
   "execution_count": null,
   "id": "6e1c6b6f",
   "metadata": {},
   "outputs": [],
   "source": [
    "#Rellenar valores Nan con el promedio\n",
    "\n",
    "data4=data\n",
    "\n",
    "#Igualamos el promedio a la columna mean del describe\n",
    "mean=data4.describe()[\"Age\"][\"mean\"]\n",
    "\n",
    "#remplazamos por\n",
    "data3= data3.fillna(mean)\n",
    "\n",
    "data4.describe()\n",
    "\n"
   ]
  },
  {
   "cell_type": "markdown",
   "id": "6f3e3400",
   "metadata": {},
   "source": [
    "Variables Dummy \n",
    "Es una estrategia para dividir los datos de una columna en dos columnas en un conjunto de columnas. Ejemplo en sexo Hay M y F \n"
   ]
  },
  {
   "cell_type": "code",
   "execution_count": null,
   "id": "008adef9",
   "metadata": {},
   "outputs": [],
   "source": [
    "#Dividir la columna sexo en 2 : male/ female y borrar original\n",
    "data5=data\n",
    "data5.head(20)\n",
    "data5 = pd.get_dummies(data5[\"Sex\"])\n",
    "\n"
   ]
  },
  {
   "cell_type": "code",
   "execution_count": null,
   "id": "a9115367",
   "metadata": {},
   "outputs": [],
   "source": [
    "data5=pd.concat([data,data5],axis=1)\n",
    "data5.head(5)"
   ]
  },
  {
   "cell_type": "code",
   "execution_count": null,
   "id": "460c83e1",
   "metadata": {},
   "outputs": [],
   "source": [
    "data5=data5.drop(columns=[\"Sex\"])\n",
    "data5.head()"
   ]
  },
  {
   "cell_type": "code",
   "execution_count": null,
   "id": "8b857733",
   "metadata": {},
   "outputs": [],
   "source": [
    "plt.hist(data[\"Age\"])\n",
    "plt.title(label=\"Histograma de edades\")\n",
    "plt.xlabel=\"Edad\"\n",
    "plt.ylabel=\"Cantidad\""
   ]
  },
  {
   "cell_type": "markdown",
   "id": "e6d66e54",
   "metadata": {},
   "source": [
    "5 Things i learn."
   ]
  }
 ],
 "metadata": {
  "kernelspec": {
   "display_name": "Python 3",
   "language": "python",
   "name": "python3"
  },
  "language_info": {
   "codemirror_mode": {
    "name": "ipython",
    "version": 3
   },
   "file_extension": ".py",
   "mimetype": "text/x-python",
   "name": "python",
   "nbconvert_exporter": "python",
   "pygments_lexer": "ipython3",
   "version": "3.9.7"
  }
 },
 "nbformat": 4,
 "nbformat_minor": 5
}
